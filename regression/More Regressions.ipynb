{
 "cells": [
  {
   "cell_type": "markdown",
   "metadata": {},
   "source": [
    "# Quiz: Sleep and grades regression"
   ]
  },
  {
   "cell_type": "code",
   "execution_count": 1,
   "metadata": {
    "collapsed": true
   },
   "outputs": [],
   "source": [
    "#\n",
    "#\n",
    "# Regression and Classification programming exercises\n",
    "#\n",
    "#\n",
    "\n",
    "\n",
    "#\n",
    "#\tIn this exercise we will be taking a small data set and computing a linear function\n",
    "#\tthat fits it, by hand.\n",
    "#\t\n",
    "\n",
    "#\tthe data set\n",
    "\n",
    "import numpy as np\n",
    "\n",
    "sleep = [5,6,7,8,10]\n",
    "scores = [65,51,75,75,86]"
   ]
  },
  {
   "cell_type": "code",
   "execution_count": null,
   "metadata": {
    "collapsed": true
   },
   "outputs": [],
   "source": [
    "def ssx(x):\n",
    "    return sum(np.power(x,2)) - (np.power(sum(x),2))/len(x)\n",
    "\n",
    "def ssxy(x,y):\n",
    "    xy = [ a*b for a, b in zip(x,y)]\n",
    "    return sum(xy) - (sum(x)*sum(y))/len(x)"
   ]
  },
  {
   "cell_type": "markdown",
   "metadata": {},
   "source": [
    "$$\n",
    "slope = \\sum{ (x - \\bar{x})*(y - \\bar{y}) } * \\frac{1}{ SSX( x - \\bar{x} ) }\n",
    "$$"
   ]
  },
  {
   "cell_type": "code",
   "execution_count": 31,
   "metadata": {
    "collapsed": false
   },
   "outputs": [
    {
     "name": "stdout",
     "output_type": "stream",
     "text": [
      "Your linear model is y=5.44*x+31.232\n"
     ]
    }
   ],
   "source": [
    "def compute_regression(sleep,scores):\n",
    "\n",
    "    #\tFirst, compute the average amount of each list\n",
    "\n",
    "    avg_sleep = np.mean(sleep)\n",
    "    avg_scores = np.mean(scores)\n",
    "\n",
    "    #\tThen normalize the lists by subtracting the mean value from each entry\n",
    "\n",
    "    normalized_sleep = sleep - avg_sleep\n",
    "    normalized_scores = scores - avg_scores\n",
    "    \n",
    "    #\tCompute the slope of the line by taking the sum over each student\n",
    "    #\tof the product of their normalized sleep times their normalized test score.\n",
    "    #\tThen divide this by the sum of squares of the normalized sleep times.\n",
    "\n",
    "    slope = sum(normalized_sleep*normalized_scores) / ssx(normalized_sleep)\n",
    "\n",
    "    #\tFinally, We have a linear function of the form\n",
    "    #\ty - avg_y = slope * ( x - avg_x )\n",
    "    #\tRewrite this function in the form\n",
    "    #\ty = m * x + b\n",
    "    #\tThen return the values m, b\n",
    "    m = slope\n",
    "    b = avg_scores - avg_sleep*m\n",
    "\n",
    "    return m,b\n",
    "\n",
    "\n",
    "if __name__==\"__main__\":\n",
    "    m,b = compute_regression(sleep,scores)\n",
    "    print \"Your linear model is y={}*x+{}\".format(m,b)"
   ]
  },
  {
   "cell_type": "code",
   "execution_count": 20,
   "metadata": {
    "collapsed": false
   },
   "outputs": [
    {
     "name": "stdout",
     "output_type": "stream",
     "text": [
      "[5, 6, 7, 8, 10]\n",
      "[65, 51, 75, 75, 86]\n"
     ]
    }
   ],
   "source": [
    "print sleep\n",
    "print scores"
   ]
  },
  {
   "cell_type": "code",
   "execution_count": 32,
   "metadata": {
    "collapsed": false
   },
   "outputs": [
    {
     "data": {
      "text/plain": [
       "array([ 58.432,  63.872,  69.312,  74.752,  85.632])"
      ]
     },
     "execution_count": 32,
     "metadata": {},
     "output_type": "execute_result"
    }
   ],
   "source": [
    "def lm(x):\n",
    "    return np.array(x)*5.44 + 31.232\n",
    "lm(sleep)"
   ]
  },
  {
   "cell_type": "markdown",
   "metadata": {},
   "source": [
    "# Fitting model\n",
    "$$\n",
    "y = p[0] * x^2 + p[1] * x + p[2]\n",
    "$$\n",
    "\n",
    "Source:\n",
    "* https://docs.scipy.org/doc/numpy-1.10.0/reference/generated/numpy.polyfit.html\n",
    "* http://scikit-learn.org/stable/modules/generated/sklearn.preprocessing.PolynomialFeatures.html"
   ]
  },
  {
   "cell_type": "markdown",
   "metadata": {},
   "source": [
    "# Quiz: Polynomial Regression"
   ]
  },
  {
   "cell_type": "code",
   "execution_count": 47,
   "metadata": {
    "collapsed": false
   },
   "outputs": [
    {
     "name": "stdout",
     "output_type": "stream",
     "text": [
      "[ -1.80827085  33.59928326 -71.3685104 ]\n"
     ]
    }
   ],
   "source": [
    "#\n",
    "#\tPolynomial Regression\n",
    "#\n",
    "#\tIn this exercise we will examine more complex models of test grades as a function of \n",
    "#\tsleep using numpy.polyfit to determine a good relationship and incorporating more data.\n",
    "#\n",
    "#\n",
    "#   at the end, store the coefficients of the polynomial you found in coeffs\n",
    "#\n",
    "\n",
    "import numpy as np\n",
    "\n",
    "sleep = [5,6,7,8,10,12,16]\n",
    "scores = [65,51,75,75,86,80,0]\n",
    "\n",
    "z = np.polyfit(sleep, scores, 2)\n",
    "print z"
   ]
  },
  {
   "cell_type": "code",
   "execution_count": 52,
   "metadata": {
    "collapsed": false
   },
   "outputs": [
    {
     "name": "stderr",
     "output_type": "stream",
     "text": [
      "C:\\Program Files\\Anaconda3\\envs\\py27\\lib\\site-packages\\numpy\\lib\\polynomial.py:595: RankWarning: Polyfit may be poorly conditioned\n",
      "  warnings.warn(msg, RankWarning)\n"
     ]
    }
   ],
   "source": [
    "p = np.poly1d(z)\n",
    "p30 = np.poly1d(np.polyfit(sleep, scores, 30))"
   ]
  },
  {
   "cell_type": "code",
   "execution_count": 54,
   "metadata": {
    "collapsed": false
   },
   "outputs": [],
   "source": [
    "import matplotlib.pyplot as plt\n",
    "xp = np.linspace(2, 14, 100)"
   ]
  },
  {
   "cell_type": "code",
   "execution_count": 55,
   "metadata": {
    "collapsed": false
   },
   "outputs": [
    {
     "data": {
      "image/png": "[encoded data removed]",
      "text/plain": [
       "<matplotlib.figure.Figure at 0x94dacc0>"
      ]
     },
     "metadata": {},
     "output_type": "display_data"
    }
   ],
   "source": [
    " _ = plt.plot(sleep, scores, '.', xp, p(xp), '-', xp, p30(xp), '--')\n",
    "#plt.ylim(-2,2)\n",
    "plt.show()"
   ]
  }
 ],
 "metadata": {
  "kernelspec": {
   "display_name": "Python [conda env:py27]",
   "language": "python",
   "name": "conda-env-py27-py"
  },
  "language_info": {
   "codemirror_mode": {
    "name": "ipython",
    "version": 2
   },
   "file_extension": ".py",
   "mimetype": "text/x-python",
   "name": "python",
   "nbconvert_exporter": "python",
   "pygments_lexer": "ipython2",
   "version": "2.7.12"
  }
 },
 "nbformat": 4,
 "nbformat_minor": 1
}
