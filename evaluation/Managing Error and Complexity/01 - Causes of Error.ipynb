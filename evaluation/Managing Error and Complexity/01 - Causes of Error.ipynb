{
 "cells": [
  {
   "cell_type": "markdown",
   "metadata": {},
   "source": [
    "# Causes of Error\n",
    "Now that we have covered some basic metrics for measuring model performance, let us turn our attention to reasons <span style=\"color:red\">why models exhibit errors in the first place.</span>\n",
    "\n",
    "In model prediction there are two main sources of errors that a model can suffer from.\n",
    "* **Bias** due to a model being unable to represent the complexity of the underlying data.\n",
    "* **Variance** due to a model being overly sensitive to the limited data it has been trained on.\n",
    "\n",
    "We will go over both in a bit more detail."
   ]
  },
  {
   "cell_type": "markdown",
   "metadata": {},
   "source": [
    "# Error due to Bias - Accuracy and Underfitting\n",
    "Bias occurs when a model has enough data but is not complex enough to capture the underlying relationships. As a result, the model consistently and systematically misrepresents the data, leading to low accuracy in prediction. **This is known as underfitting.**\n",
    "\n",
    "Simply put, bias occurs when we have an inadequate model. An example might be when we have objects that are classified by color and shape, for example easter eggs, but our model can only partition and classify objects by color. It would therefore consistently mislabel future objects--for example labeling rainbows as easter eggs because they are colorful.\n",
    "\n",
    "Another example would be continuous data that is polynomial in nature, with a model that can only represent linear relationships. In this case it does not matter how much data we feed the model because it cannot represent the underlying relationship. <span style=\"color:red\">To overcome error from bias, we need a more complex model.</span>"
   ]
  },
  {
   "cell_type": "markdown",
   "metadata": {},
   "source": [
    "# Error due to Variance - Precision and Overfitting\n",
    "When training a model, we typically use a limited number of samples from a larger population. If we repeatedly train a model with randomly selected subsets of data, we would expect its predictons to be different based on the specific examples given to it. Here variance is a measure of how much the predictions vary for any given test sample.\n",
    "\n",
    "Some variance is normal, but too much variance indicates that the model is unable to generalize its predictions to the larger population. High sensitivity to the training set is also known as overfitting, and **generally occurs when either the model is too complex or when we do not have enough data to support it.**\n",
    "\n",
    "We can typically <span style=\"color:blue\">reduce the variability of a model's predictions and increase precision by training on more data</span>. <span style=\"color:lime\">If more data is unavailable, we can also control variance by limiting our model's complexity</span>."
   ]
  },
  {
   "cell_type": "markdown",
   "metadata": {},
   "source": [
    "# Quiz: Noisy Data, Complex Model"
   ]
  },
  {
   "cell_type": "code",
   "execution_count": 3,
   "metadata": {
    "collapsed": true
   },
   "outputs": [],
   "source": [
    "%matplotlib inline"
   ]
  },
  {
   "cell_type": "code",
   "execution_count": 2,
   "metadata": {
    "collapsed": true
   },
   "outputs": [],
   "source": [
    "# In this exercise we'll examine a learner which has high variance, and tries to learn\n",
    "# nonexistant patterns in the data.\n",
    "# Use the learning curve function from sklearn.learning_curve to plot learning curves\n",
    "# of both training and testing error.\n",
    "\n",
    "from sklearn.tree import DecisionTreeRegressor\n",
    "import matplotlib.pyplot as plt\n",
    "from sklearn.learning_curve import learning_curve\n",
    "from sklearn.cross_validation import KFold\n",
    "from sklearn.metrics import explained_variance_score, make_scorer\n",
    "import numpy as np"
   ]
  },
  {
   "cell_type": "code",
   "execution_count": 4,
   "metadata": {
    "collapsed": true
   },
   "outputs": [],
   "source": [
    "# Set the learning curve parameters; you'll need this for learning_curves\n",
    "size = 1000\n",
    "cv = KFold(size,shuffle=True)\n",
    "score = make_scorer(explained_variance_score)"
   ]
  },
  {
   "cell_type": "code",
   "execution_count": 5,
   "metadata": {
    "collapsed": true
   },
   "outputs": [],
   "source": [
    "# Create a series of data that forces a learner to have high variance\n",
    "X = np.round(np.reshape(np.random.normal(scale=5,size=2*size),(-1,2)),2)\n",
    "y = np.array([[np.sin(x[0]+np.sin(x[1]))] for x in X])"
   ]
  },
  {
   "cell_type": "code",
   "execution_count": 11,
   "metadata": {
    "collapsed": false
   },
   "outputs": [
    {
     "name": "stdout",
     "output_type": "stream",
     "text": [
      "Regressor score: 1.0000\n"
     ]
    },
    {
     "data": {
      "image/png": "[encoded data removed]",
      "text/plain": [
       "<matplotlib.figure.Figure at 0x9e5aa90>"
      ]
     },
     "metadata": {},
     "output_type": "display_data"
    }
   ],
   "source": [
    "def plot_curve():\n",
    "    reg = DecisionTreeRegressor()\n",
    "    reg.fit(X,y)\n",
    "    print \"Regressor score: {:.4f}\".format(reg.score(X,y))\n",
    "    \n",
    "    # TODO: Use learning_curve imported above to create learning curves for both the\n",
    "    #       training data and testing data. You'll need 'size', 'cv' and 'score' from above.\n",
    "    \n",
    "    training_sizes, training_scores, testing_scores = learning_curve(DecisionTreeRegressor(), X, y, cv=cv, scoring=score)\n",
    "\n",
    "    # TODO: Plot the training curves and the testing curves\n",
    "    #       Use plt.plot twice -- one for each score. Be sure to give them labels!\n",
    "    \n",
    "    training_scores_mean = np.mean(training_scores, axis=1)\n",
    "    training_scores_std = np.std(training_scores, axis=1)\n",
    "    \n",
    "    testing_scores_mean = np.mean(testing_scores, axis=1)\n",
    "    testing_scores_std = np.std(testing_scores, axis=1)\n",
    "    \n",
    "    plt.fill_between(training_sizes, training_scores_mean-training_scores_std,\n",
    "                     training_scores_mean+training_scores_std, color='r', alpha=.1)\n",
    "    plt.fill_between(training_sizes, testing_scores_mean-testing_scores_std,\n",
    "                     testing_scores_mean+testing_scores_std, color='g', alpha=.1)\n",
    "    \n",
    "    plt.plot(training_sizes, training_scores_mean, '-o', label='Training Scores', c='r')\n",
    "    plt.plot(training_sizes, testing_scores_mean, '-o',  label='Testing Scores', c='g')\n",
    "    \n",
    "    # Plot aesthetics\n",
    "    plt.ylim(-0.1, 1.1)\n",
    "    plt.ylabel(\"Curve Score\")\n",
    "    plt.xlabel(\"Training Points\")\n",
    "    plt.legend(loc='best')\n",
    "    plt.show()\n",
    "plot_curve()"
   ]
  },
  {
   "cell_type": "markdown",
   "metadata": {},
   "source": [
    "# Improving the Validity of a Model\n",
    "There is a trade-off in the value of simplicity or complexity of a model given a fixed set of data. If it is too simple, our model cannot learn about the data and misrepresents the data. However if our model is too complex, we need more data to learn the underlying relationship. Otherwise it is very common for a model to infer relationships that might not actually exist in the data.\n",
    "\n",
    "**The key is to find the sweet spot that minimizes bias and variance by finding the right level of model complexity.** Of course with more data any model can improve, and different models may be optimal.\n",
    "\n",
    "To learn more about bias and variance, we recommend this essay by Scott Fortmann-Roe. <br />\n",
    "http://scott.fortmann-roe.com/docs/BiasVariance.html\n",
    "\n",
    "In addition to the subset of data chosen for training, **what features you use from a given dataset can also greatly affect the bias and variance of your model.**"
   ]
  },
  {
   "cell_type": "markdown",
   "metadata": {},
   "source": [
    "# Quiz: Bias, Variance, and Number of Features\n",
    "\n",
    "## High Bias\n",
    "Pays a little attention to data oversimplified. <br />\n",
    "<span style=\"color:red\">high error on training set (low r^2, large SSE - Sum of Square Errors)</span> <br />\n",
    "Few features used\n",
    "\n",
    "## High Variance\n",
    "Pays too much attention to data (does not generalize well) overfits. <br />\n",
    "<span style=\"color:red\">much higher error on test set than on training set</span> <br />\n",
    "Many features, carefylly optimized performance on training data.\n",
    "\n",
    "***\n",
    "> The sweet spot would be large r^2 and low SSE"
   ]
  }
 ],
 "metadata": {
  "anaconda-cloud": {},
  "kernelspec": {
   "display_name": "Python [Root]",
   "language": "python",
   "name": "Python [Root]"
  },
  "language_info": {
   "codemirror_mode": {
    "name": "ipython",
    "version": 2
   },
   "file_extension": ".py",
   "mimetype": "text/x-python",
   "name": "python",
   "nbconvert_exporter": "python",
   "pygments_lexer": "ipython2",
   "version": "2.7.12"
  }
 },
 "nbformat": 4,
 "nbformat_minor": 1
}
