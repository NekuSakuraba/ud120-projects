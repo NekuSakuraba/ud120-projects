{
 "cells": [
  {
   "cell_type": "code",
   "execution_count": 4,
   "metadata": {
    "collapsed": false
   },
   "outputs": [],
   "source": [
    "def fwd_bkw(observations, states, start_prob, trans_prob, emm_prob, end_st):\n",
    "    # This is the forward part of this algorithm\n",
    "    fwd = []\n",
    "    f_prev = {}\n",
    "    for i, observation_i in enumerate(observations):\n",
    "        f_curr = {}\n",
    "        for st in states:\n",
    "            if i == 0:\n",
    "                # base case for the forward part\n",
    "                prev_f_sum = start_prob[st]\n",
    "            else:\n",
    "                prev_f_sum = sum(f_prev[k]*trans_prob[k][st] for k in states)\n",
    "                \n",
    "            f_curr[st] = emm_prob[st][observation_i]*prev_f_sum\n",
    "            fwd.append(f_curr)\n",
    "            f_prev = f_curr\n",
    "            \n",
    "        p_fwd = sum(f_curr[k]*trans_prob[k][end_st] for k in states)\n",
    "    \n",
    "    # This is the backward part of this algorithm\n",
    "    bkw = []\n",
    "    b_prev = {}\n",
    "    for i, observation_i_plus in enumerate(reversed(observations[1:]+(None,))):\n",
    "        b_curr = {}\n",
    "        for st in states:\n",
    "            if i == 0:\n",
    "                # base case for backward part\n",
    "                b_curr[st] = trans_prob[st][end_st]\n",
    "            else:\n",
    "                b_curr[st] = sum(trans_prob[st][l]*emm_prob[l][observation_i_plus]*b_prev[l] for l in states)\n",
    "            bkw.insert(0, b_curr)\n",
    "            \n",
    "        p_bkw = sum(start_prob[l]* emm_prob[l][observations[0]]* b_curr[l] for l in states)\n",
    "        \n",
    "        # Now we simple merge the two parts\n",
    "        posterior = []\n",
    "        for i in range(len(observations)):\n",
    "            posterior.append({st:fwd[i][st]*bkw[i][st]/p_fwd for s in states})\n",
    "            \n",
    "        assert p_fwd == p_bkw\n",
    "        return fwd, bkw, posterior"
   ]
  },
  {
   "cell_type": "code",
   "execution_count": null,
   "metadata": {
    "collapsed": true
   },
   "outputs": [],
   "source": []
  }
 ],
 "metadata": {
  "kernelspec": {
   "display_name": "Python 2",
   "language": "python",
   "name": "python2"
  },
  "language_info": {
   "codemirror_mode": {
    "name": "ipython",
    "version": 2
   },
   "file_extension": ".py",
   "mimetype": "text/x-python",
   "name": "python",
   "nbconvert_exporter": "python",
   "pygments_lexer": "ipython2",
   "version": "2.7.13"
  }
 },
 "nbformat": 4,
 "nbformat_minor": 2
}
